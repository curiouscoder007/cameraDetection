{
  "nbformat": 4,
  "nbformat_minor": 0,
  "metadata": {
    "colab": {
      "name": "testModel_colab.ipynb",
      "provenance": [],
      "toc_visible": true
    },
    "kernelspec": {
      "name": "python3",
      "display_name": "Python 3"
    }
  },
  "cells": [
    {
      "cell_type": "code",
      "metadata": {
        "id": "Huy96XTNPJUc",
        "colab_type": "code",
        "colab": {
          "base_uri": "https://localhost:8080/",
          "height": 34
        },
        "outputId": "d995184d-5384-414f-fd46-56783dcc6675"
      },
      "source": [
        "import tensorflow as tf\n",
        "import pandas as pd\n",
        "import numpy as np\n",
        "import keras\n",
        "import os"
      ],
      "execution_count": 1,
      "outputs": [
        {
          "output_type": "stream",
          "text": [
            "Using TensorFlow backend.\n"
          ],
          "name": "stderr"
        }
      ]
    },
    {
      "cell_type": "code",
      "metadata": {
        "id": "y4voz7ROPbp1",
        "colab_type": "code",
        "colab": {
          "base_uri": "https://localhost:8080/",
          "height": 34
        },
        "outputId": "229cb9bc-3f06-4660-ee9e-a94d144e5cc2"
      },
      "source": [
        "from google.colab import drive\n",
        "drive.mount('/content/drive')"
      ],
      "execution_count": 2,
      "outputs": [
        {
          "output_type": "stream",
          "text": [
            "Drive already mounted at /content/drive; to attempt to forcibly remount, call drive.mount(\"/content/drive\", force_remount=True).\n"
          ],
          "name": "stdout"
        }
      ]
    },
    {
      "cell_type": "code",
      "metadata": {
        "id": "kCQSUFVBPeIl",
        "colab_type": "code",
        "colab": {
          "base_uri": "https://localhost:8080/",
          "height": 34
        },
        "outputId": "9a0eb29d-279d-4ff7-ba41-dd94c37d09e3"
      },
      "source": [
        "path = '/content/drive/My Drive/Colab Notebooks/sp-society-camera-model-identification'\n",
        "os.chdir(path)\n",
        "trainpath = path+\"/test\"\n",
        "os.chdir(trainpath)\n",
        "\n",
        "\n",
        "df1 = pd.read_pickle(path+'/test/test_images1.pkl')\n",
        "df2 = pd.read_pickle(path+'/test/test_images2.pkl')\n",
        "df1 = pd.concat([df1,df2])\n",
        "df1.shape\n"
      ],
      "execution_count": 5,
      "outputs": [
        {
          "output_type": "execute_result",
          "data": {
            "text/plain": [
              "(2640, 2)"
            ]
          },
          "metadata": {
            "tags": []
          },
          "execution_count": 5
        }
      ]
    },
    {
      "cell_type": "code",
      "metadata": {
        "id": "oUrJ5YY_hjsJ",
        "colab_type": "code",
        "colab": {
          "base_uri": "https://localhost:8080/",
          "height": 195
        },
        "outputId": "83be384f-da58-4b0b-9906-62edd94ad216"
      },
      "source": [
        "df1.head()"
      ],
      "execution_count": 8,
      "outputs": [
        {
          "output_type": "execute_result",
          "data": {
            "text/html": [
              "<div>\n",
              "<style scoped>\n",
              "    .dataframe tbody tr th:only-of-type {\n",
              "        vertical-align: middle;\n",
              "    }\n",
              "\n",
              "    .dataframe tbody tr th {\n",
              "        vertical-align: top;\n",
              "    }\n",
              "\n",
              "    .dataframe thead th {\n",
              "        text-align: right;\n",
              "    }\n",
              "</style>\n",
              "<table border=\"1\" class=\"dataframe\">\n",
              "  <thead>\n",
              "    <tr style=\"text-align: right;\">\n",
              "      <th></th>\n",
              "      <th>location</th>\n",
              "      <th>image</th>\n",
              "    </tr>\n",
              "  </thead>\n",
              "  <tbody>\n",
              "    <tr>\n",
              "      <th>0</th>\n",
              "      <td>D:\\Study\\Capstone\\capstone_app\\Data\\test\\img_0...</td>\n",
              "      <td>(((tf.Tensor(0.2851852, shape=(), dtype=float3...</td>\n",
              "    </tr>\n",
              "    <tr>\n",
              "      <th>1</th>\n",
              "      <td>D:\\Study\\Capstone\\capstone_app\\Data\\test\\img_0...</td>\n",
              "      <td>(((tf.Tensor(0.662963, shape=(), dtype=float32...</td>\n",
              "    </tr>\n",
              "    <tr>\n",
              "      <th>2</th>\n",
              "      <td>D:\\Study\\Capstone\\capstone_app\\Data\\test\\img_0...</td>\n",
              "      <td>(((tf.Tensor(0.84313726, shape=(), dtype=float...</td>\n",
              "    </tr>\n",
              "    <tr>\n",
              "      <th>3</th>\n",
              "      <td>D:\\Study\\Capstone\\capstone_app\\Data\\test\\img_0...</td>\n",
              "      <td>(((tf.Tensor(0.12037037, shape=(), dtype=float...</td>\n",
              "    </tr>\n",
              "    <tr>\n",
              "      <th>4</th>\n",
              "      <td>D:\\Study\\Capstone\\capstone_app\\Data\\test\\img_0...</td>\n",
              "      <td>(((tf.Tensor(0.051089324, shape=(), dtype=floa...</td>\n",
              "    </tr>\n",
              "  </tbody>\n",
              "</table>\n",
              "</div>"
            ],
            "text/plain": [
              "                                            location                                              image\n",
              "0  D:\\Study\\Capstone\\capstone_app\\Data\\test\\img_0...  (((tf.Tensor(0.2851852, shape=(), dtype=float3...\n",
              "1  D:\\Study\\Capstone\\capstone_app\\Data\\test\\img_0...  (((tf.Tensor(0.662963, shape=(), dtype=float32...\n",
              "2  D:\\Study\\Capstone\\capstone_app\\Data\\test\\img_0...  (((tf.Tensor(0.84313726, shape=(), dtype=float...\n",
              "3  D:\\Study\\Capstone\\capstone_app\\Data\\test\\img_0...  (((tf.Tensor(0.12037037, shape=(), dtype=float...\n",
              "4  D:\\Study\\Capstone\\capstone_app\\Data\\test\\img_0...  (((tf.Tensor(0.051089324, shape=(), dtype=floa..."
            ]
          },
          "metadata": {
            "tags": []
          },
          "execution_count": 8
        }
      ]
    },
    {
      "cell_type": "code",
      "metadata": {
        "id": "BQK_t-rOhT-g",
        "colab_type": "code",
        "colab": {}
      },
      "source": [
        "def reshape_input_cnn(X):\n",
        "    X = np.stack(X.values) #convert a pandas series of arrays into one single array\n",
        "    return X\n",
        "\n",
        "xtest = reshape_input_cnn(df1['image'])"
      ],
      "execution_count": 9,
      "outputs": []
    },
    {
      "cell_type": "code",
      "metadata": {
        "id": "3c6L_8tPPv40",
        "colab_type": "code",
        "colab": {
          "base_uri": "https://localhost:8080/",
          "height": 235
        },
        "outputId": "595e1b54-54be-4ba2-d2c0-1ef155922334"
      },
      "source": [
        "model = keras.models.load_model(path+'/model/cnn_model_v2.h5')\n",
        "ytest = model.predict(xtest)\n",
        "ytest"
      ],
      "execution_count": 10,
      "outputs": [
        {
          "output_type": "execute_result",
          "data": {
            "text/plain": [
              "array([[1.9902358e-02, 7.5166102e-04, 3.1502598e-03, ..., 7.8370756e-01,\n",
              "        1.2177136e-01, 9.0900733e-07],\n",
              "       [6.7951134e-04, 4.6238488e-06, 8.3495589e-12, ..., 4.0479973e-02,\n",
              "        5.3872168e-02, 1.1575231e-06],\n",
              "       [8.5356110e-01, 5.4782370e-11, 8.6343437e-02, ..., 2.0279449e-06,\n",
              "        8.1866756e-06, 5.4115122e-15],\n",
              "       ...,\n",
              "       [4.6434449e-03, 4.4059803e-10, 1.1578002e-10, ..., 2.4275549e-05,\n",
              "        2.3689597e-06, 8.1778182e-08],\n",
              "       [6.2742214e-07, 1.5105861e-10, 6.9907149e-03, ..., 3.6666892e-02,\n",
              "        1.3702627e-16, 1.2819043e-04],\n",
              "       [9.7974797e-12, 1.3654251e-16, 1.0000000e+00, ..., 8.0128819e-16,\n",
              "        2.1894014e-12, 2.0905285e-12]], dtype=float32)"
            ]
          },
          "metadata": {
            "tags": []
          },
          "execution_count": 10
        }
      ]
    },
    {
      "cell_type": "code",
      "metadata": {
        "id": "XeySYVvQrycA",
        "colab_type": "code",
        "colab": {
          "base_uri": "https://localhost:8080/",
          "height": 34
        },
        "outputId": "c0a74661-de59-4a66-f34c-0b8c0c5d1934"
      },
      "source": [
        "temp = np.argmax(ytest[1])\n",
        "temp"
      ],
      "execution_count": 13,
      "outputs": [
        {
          "output_type": "execute_result",
          "data": {
            "text/plain": [
              "6"
            ]
          },
          "metadata": {
            "tags": []
          },
          "execution_count": 13
        }
      ]
    },
    {
      "cell_type": "code",
      "metadata": {
        "id": "nGjKwMiIsLjj",
        "colab_type": "code",
        "colab": {
          "base_uri": "https://localhost:8080/",
          "height": 185
        },
        "outputId": "64484ea8-dd17-4af0-e316-9b0c06f17b26"
      },
      "source": [
        "#Initial class definition\n",
        "class_dict = {'HTC-1-M7': 0,\n",
        " 'iPhone-4s': 1,\n",
        " 'iPhone-6': 2,\n",
        " 'LG-Nexus-5x': 3,\n",
        " 'Motorola-Droid-Maxx': 4,\n",
        " 'Motorola-Nexus-6': 5,\n",
        " 'Motorola-X': 6,\n",
        " 'Samsung-Galaxy-Note3': 7,\n",
        " 'Samsung-Galaxy-S4': 8,\n",
        " 'Sony-NEX-7': 9}\n",
        "\n",
        "inv_class = {v:k for k,v in class_dict.items()}\n",
        "inv_class"
      ],
      "execution_count": 15,
      "outputs": [
        {
          "output_type": "execute_result",
          "data": {
            "text/plain": [
              "{0: 'HTC-1-M7',\n",
              " 1: 'iPhone-4s',\n",
              " 2: 'iPhone-6',\n",
              " 3: 'LG-Nexus-5x',\n",
              " 4: 'Motorola-Droid-Maxx',\n",
              " 5: 'Motorola-Nexus-6',\n",
              " 6: 'Motorola-X',\n",
              " 7: 'Samsung-Galaxy-Note3',\n",
              " 8: 'Samsung-Galaxy-S4',\n",
              " 9: 'Sony-NEX-7'}"
            ]
          },
          "metadata": {
            "tags": []
          },
          "execution_count": 15
        }
      ]
    },
    {
      "cell_type": "code",
      "metadata": {
        "id": "AohUURWesnyV",
        "colab_type": "code",
        "colab": {}
      },
      "source": [
        "y_predicted = [inv_class[np.argmax(y)] for y in ytest]\n"
      ],
      "execution_count": 17,
      "outputs": []
    },
    {
      "cell_type": "code",
      "metadata": {
        "id": "123XGg8Us-JY",
        "colab_type": "code",
        "colab": {
          "base_uri": "https://localhost:8080/",
          "height": 195
        },
        "outputId": "8bf97464-0cb8-479e-c833-b53fc95f0ca0"
      },
      "source": [
        "df1['camera']= y_predicted\n",
        "df1.head()"
      ],
      "execution_count": 18,
      "outputs": [
        {
          "output_type": "execute_result",
          "data": {
            "text/html": [
              "<div>\n",
              "<style scoped>\n",
              "    .dataframe tbody tr th:only-of-type {\n",
              "        vertical-align: middle;\n",
              "    }\n",
              "\n",
              "    .dataframe tbody tr th {\n",
              "        vertical-align: top;\n",
              "    }\n",
              "\n",
              "    .dataframe thead th {\n",
              "        text-align: right;\n",
              "    }\n",
              "</style>\n",
              "<table border=\"1\" class=\"dataframe\">\n",
              "  <thead>\n",
              "    <tr style=\"text-align: right;\">\n",
              "      <th></th>\n",
              "      <th>location</th>\n",
              "      <th>image</th>\n",
              "      <th>camera</th>\n",
              "    </tr>\n",
              "  </thead>\n",
              "  <tbody>\n",
              "    <tr>\n",
              "      <th>0</th>\n",
              "      <td>D:\\Study\\Capstone\\capstone_app\\Data\\test\\img_0...</td>\n",
              "      <td>(((tf.Tensor(0.2851852, shape=(), dtype=float3...</td>\n",
              "      <td>Samsung-Galaxy-Note3</td>\n",
              "    </tr>\n",
              "    <tr>\n",
              "      <th>1</th>\n",
              "      <td>D:\\Study\\Capstone\\capstone_app\\Data\\test\\img_0...</td>\n",
              "      <td>(((tf.Tensor(0.662963, shape=(), dtype=float32...</td>\n",
              "      <td>Motorola-X</td>\n",
              "    </tr>\n",
              "    <tr>\n",
              "      <th>2</th>\n",
              "      <td>D:\\Study\\Capstone\\capstone_app\\Data\\test\\img_0...</td>\n",
              "      <td>(((tf.Tensor(0.84313726, shape=(), dtype=float...</td>\n",
              "      <td>HTC-1-M7</td>\n",
              "    </tr>\n",
              "    <tr>\n",
              "      <th>3</th>\n",
              "      <td>D:\\Study\\Capstone\\capstone_app\\Data\\test\\img_0...</td>\n",
              "      <td>(((tf.Tensor(0.12037037, shape=(), dtype=float...</td>\n",
              "      <td>Samsung-Galaxy-Note3</td>\n",
              "    </tr>\n",
              "    <tr>\n",
              "      <th>4</th>\n",
              "      <td>D:\\Study\\Capstone\\capstone_app\\Data\\test\\img_0...</td>\n",
              "      <td>(((tf.Tensor(0.051089324, shape=(), dtype=floa...</td>\n",
              "      <td>Motorola-X</td>\n",
              "    </tr>\n",
              "  </tbody>\n",
              "</table>\n",
              "</div>"
            ],
            "text/plain": [
              "                                            location  ...                camera\n",
              "0  D:\\Study\\Capstone\\capstone_app\\Data\\test\\img_0...  ...  Samsung-Galaxy-Note3\n",
              "1  D:\\Study\\Capstone\\capstone_app\\Data\\test\\img_0...  ...            Motorola-X\n",
              "2  D:\\Study\\Capstone\\capstone_app\\Data\\test\\img_0...  ...              HTC-1-M7\n",
              "3  D:\\Study\\Capstone\\capstone_app\\Data\\test\\img_0...  ...  Samsung-Galaxy-Note3\n",
              "4  D:\\Study\\Capstone\\capstone_app\\Data\\test\\img_0...  ...            Motorola-X\n",
              "\n",
              "[5 rows x 3 columns]"
            ]
          },
          "metadata": {
            "tags": []
          },
          "execution_count": 18
        }
      ]
    },
    {
      "cell_type": "code",
      "metadata": {
        "id": "gp385fhIvRpO",
        "colab_type": "code",
        "colab": {
          "base_uri": "https://localhost:8080/",
          "height": 136
        },
        "outputId": "340410f2-29ca-465c-ccd9-39dd1c79d80e"
      },
      "source": [
        "df1['fname'] = df1['location'].apply(lambda x:x.split(\"\\\\\")[6])\n",
        "df1.head(3)"
      ],
      "execution_count": 32,
      "outputs": [
        {
          "output_type": "execute_result",
          "data": {
            "text/html": [
              "<div>\n",
              "<style scoped>\n",
              "    .dataframe tbody tr th:only-of-type {\n",
              "        vertical-align: middle;\n",
              "    }\n",
              "\n",
              "    .dataframe tbody tr th {\n",
              "        vertical-align: top;\n",
              "    }\n",
              "\n",
              "    .dataframe thead th {\n",
              "        text-align: right;\n",
              "    }\n",
              "</style>\n",
              "<table border=\"1\" class=\"dataframe\">\n",
              "  <thead>\n",
              "    <tr style=\"text-align: right;\">\n",
              "      <th></th>\n",
              "      <th>location</th>\n",
              "      <th>image</th>\n",
              "      <th>camera</th>\n",
              "      <th>fname</th>\n",
              "    </tr>\n",
              "  </thead>\n",
              "  <tbody>\n",
              "    <tr>\n",
              "      <th>0</th>\n",
              "      <td>D:\\Study\\Capstone\\capstone_app\\Data\\test\\img_0...</td>\n",
              "      <td>(((tf.Tensor(0.2851852, shape=(), dtype=float3...</td>\n",
              "      <td>Samsung-Galaxy-Note3</td>\n",
              "      <td>img_0002a04_manip.tif</td>\n",
              "    </tr>\n",
              "    <tr>\n",
              "      <th>1</th>\n",
              "      <td>D:\\Study\\Capstone\\capstone_app\\Data\\test\\img_0...</td>\n",
              "      <td>(((tf.Tensor(0.662963, shape=(), dtype=float32...</td>\n",
              "      <td>Motorola-X</td>\n",
              "      <td>img_001e31c_unalt.tif</td>\n",
              "    </tr>\n",
              "    <tr>\n",
              "      <th>2</th>\n",
              "      <td>D:\\Study\\Capstone\\capstone_app\\Data\\test\\img_0...</td>\n",
              "      <td>(((tf.Tensor(0.84313726, shape=(), dtype=float...</td>\n",
              "      <td>HTC-1-M7</td>\n",
              "      <td>img_00275cf_manip.tif</td>\n",
              "    </tr>\n",
              "  </tbody>\n",
              "</table>\n",
              "</div>"
            ],
            "text/plain": [
              "                                            location  ...                  fname\n",
              "0  D:\\Study\\Capstone\\capstone_app\\Data\\test\\img_0...  ...  img_0002a04_manip.tif\n",
              "1  D:\\Study\\Capstone\\capstone_app\\Data\\test\\img_0...  ...  img_001e31c_unalt.tif\n",
              "2  D:\\Study\\Capstone\\capstone_app\\Data\\test\\img_0...  ...  img_00275cf_manip.tif\n",
              "\n",
              "[3 rows x 4 columns]"
            ]
          },
          "metadata": {
            "tags": []
          },
          "execution_count": 32
        }
      ]
    },
    {
      "cell_type": "code",
      "metadata": {
        "id": "qjzwQbnJztXK",
        "colab_type": "code",
        "colab": {}
      },
      "source": [
        "headers = ['fname','camera']\n",
        "df1.to_csv('camera_output.csv',columns=headers, header=headers)"
      ],
      "execution_count": 37,
      "outputs": []
    },
    {
      "cell_type": "markdown",
      "metadata": {
        "id": "dojVnv0l2lxA",
        "colab_type": "text"
      },
      "source": [
        "# New Section"
      ]
    },
    {
      "cell_type": "markdown",
      "metadata": {
        "id": "p9f0Z9o12nim",
        "colab_type": "text"
      },
      "source": [
        "# New Section"
      ]
    },
    {
      "cell_type": "markdown",
      "metadata": {
        "id": "hqj_T_D22pZl",
        "colab_type": "text"
      },
      "source": [
        "# New Section"
      ]
    }
  ]
}