{
 "cells": [
  {
   "cell_type": "code",
   "execution_count": 18,
   "metadata": {},
   "outputs": [],
   "source": [
    "import tensorflow as tf\n",
    "import pathlib\n",
    "import imageio\n",
    "import IPython.display as display\n",
    "import os\n",
    "import pandas as pd\n",
    "import pickle\n",
    "\n",
    "from pathlib import Path\n",
    "    "
   ]
  },
  {
   "cell_type": "code",
   "execution_count": 19,
   "metadata": {},
   "outputs": [
    {
     "data": {
      "text/plain": [
       "'D:\\\\Study\\\\Capstone\\\\capstone_app\\\\Data\\\\test\\\\Data'"
      ]
     },
     "execution_count": 19,
     "metadata": {},
     "output_type": "execute_result"
    }
   ],
   "source": [
    "#Getting the location of the Data folder and subsequent test folder\n",
    "path=os.getcwd()\n",
    "parentDir = Path(path).parents[0]\n",
    "#dataPath = os.path.abspath(os.path.join(parentDir,'Data'))\n",
    "dataPath = path+\"\\\\Data\"\n",
    "dataPath\n"
   ]
  },
  {
   "cell_type": "code",
   "execution_count": 5,
   "metadata": {},
   "outputs": [],
   "source": [
    "testpath = dataPath+\"\\\\test\"\n",
    "os.chdir(testpath)"
   ]
  },
  {
   "cell_type": "code",
   "execution_count": 7,
   "metadata": {},
   "outputs": [
    {
     "data": {
      "text/plain": [
       "2641"
      ]
     },
     "execution_count": 7,
     "metadata": {},
     "output_type": "execute_result"
    }
   ],
   "source": [
    "#Listing the \n",
    "cameras = os.listdir()\n",
    "cameras.remove('.gitignore')\n",
    "#cameras.remove('train_images1.pkl')\n",
    "#cameras.remove('train_images2.pkl')\n",
    "\n",
    "filecount = len(cameras)\n",
    "filecount"
   ]
  },
  {
   "cell_type": "code",
   "execution_count": 9,
   "metadata": {},
   "outputs": [],
   "source": [
    "test_paths = pathlib.Path(testpath).glob('*.tif')\n",
    "imglist = [str(x) for x in test_paths]\n",
    "#imglist"
   ]
  },
  {
   "cell_type": "code",
   "execution_count": 12,
   "metadata": {},
   "outputs": [
    {
     "data": {
      "text/html": [
       "<div>\n",
       "<style scoped>\n",
       "    .dataframe tbody tr th:only-of-type {\n",
       "        vertical-align: middle;\n",
       "    }\n",
       "\n",
       "    .dataframe tbody tr th {\n",
       "        vertical-align: top;\n",
       "    }\n",
       "\n",
       "    .dataframe thead th {\n",
       "        text-align: right;\n",
       "    }\n",
       "</style>\n",
       "<table border=\"1\" class=\"dataframe\">\n",
       "  <thead>\n",
       "    <tr style=\"text-align: right;\">\n",
       "      <th></th>\n",
       "      <th>location</th>\n",
       "      <th>image</th>\n",
       "    </tr>\n",
       "  </thead>\n",
       "  <tbody>\n",
       "    <tr>\n",
       "      <th>0</th>\n",
       "      <td>D:\\Study\\Capstone\\capstone_app\\Data\\test\\img_0...</td>\n",
       "      <td>(((tf.Tensor(0.2851852, shape=(), dtype=float3...</td>\n",
       "    </tr>\n",
       "    <tr>\n",
       "      <th>1</th>\n",
       "      <td>D:\\Study\\Capstone\\capstone_app\\Data\\test\\img_0...</td>\n",
       "      <td>(((tf.Tensor(0.662963, shape=(), dtype=float32...</td>\n",
       "    </tr>\n",
       "    <tr>\n",
       "      <th>2</th>\n",
       "      <td>D:\\Study\\Capstone\\capstone_app\\Data\\test\\img_0...</td>\n",
       "      <td>(((tf.Tensor(0.84313726, shape=(), dtype=float...</td>\n",
       "    </tr>\n",
       "    <tr>\n",
       "      <th>3</th>\n",
       "      <td>D:\\Study\\Capstone\\capstone_app\\Data\\test\\img_0...</td>\n",
       "      <td>(((tf.Tensor(0.12037037, shape=(), dtype=float...</td>\n",
       "    </tr>\n",
       "    <tr>\n",
       "      <th>4</th>\n",
       "      <td>D:\\Study\\Capstone\\capstone_app\\Data\\test\\img_0...</td>\n",
       "      <td>(((tf.Tensor(0.051089324, shape=(), dtype=floa...</td>\n",
       "    </tr>\n",
       "  </tbody>\n",
       "</table>\n",
       "</div>"
      ],
      "text/plain": [
       "                                            location  \\\n",
       "0  D:\\Study\\Capstone\\capstone_app\\Data\\test\\img_0...   \n",
       "1  D:\\Study\\Capstone\\capstone_app\\Data\\test\\img_0...   \n",
       "2  D:\\Study\\Capstone\\capstone_app\\Data\\test\\img_0...   \n",
       "3  D:\\Study\\Capstone\\capstone_app\\Data\\test\\img_0...   \n",
       "4  D:\\Study\\Capstone\\capstone_app\\Data\\test\\img_0...   \n",
       "\n",
       "                                               image  \n",
       "0  (((tf.Tensor(0.2851852, shape=(), dtype=float3...  \n",
       "1  (((tf.Tensor(0.662963, shape=(), dtype=float32...  \n",
       "2  (((tf.Tensor(0.84313726, shape=(), dtype=float...  \n",
       "3  (((tf.Tensor(0.12037037, shape=(), dtype=float...  \n",
       "4  (((tf.Tensor(0.051089324, shape=(), dtype=floa...  "
      ]
     },
     "execution_count": 12,
     "metadata": {},
     "output_type": "execute_result"
    }
   ],
   "source": [
    "import pandas as pd\n",
    "def preprocess_image(image):\n",
    "  image = tf.image.decode_jpeg(image, channels=3)\n",
    "  image = tf.image.resize(image, [192, 192])\n",
    "  image /= 255.0  # normalize to [0,1] range\n",
    "  return image\n",
    "\n",
    "def decode_image(image):\n",
    "    image = tf.image.decode_jpeg(image, channels=3)\n",
    "    return image\n",
    "\n",
    "img_df = pd.DataFrame(columns=['location','image'])\n",
    "i = 0\n",
    "for imglocation in imglist:\n",
    "    \n",
    "    img_raw = tf.io.read_file(imglocation)\n",
    "    img = preprocess_image(img_raw)\n",
    "    orig = decode_image(img_raw)\n",
    "    #img_df.set_value(i,'original',orig)\n",
    "    img_df.at[i,'location']=imglocation\n",
    "    img_df.at[i,'image']   = img\n",
    "    i+=1\n",
    "    #if (i==10):\n",
    "    #    break\n",
    "img_df.head()"
   ]
  },
  {
   "cell_type": "code",
   "execution_count": 13,
   "metadata": {},
   "outputs": [],
   "source": [
    "test_df1 = img_df[0:1320]\n",
    "\n",
    "import pickle\n",
    "with open('test_images1.pkl', 'wb') as f:\n",
    "    pickle.dump(test_df1, f)\n",
    "#img_df.to_pickle('train_images.pkl')"
   ]
  },
  {
   "cell_type": "code",
   "execution_count": 14,
   "metadata": {},
   "outputs": [],
   "source": [
    "test_df2 = img_df[1320:]\n",
    "\n",
    "with open('test_images2.pkl', 'wb') as f:\n",
    "    pickle.dump(test_df2, f)"
   ]
  },
  {
   "cell_type": "code",
   "execution_count": 8,
   "metadata": {},
   "outputs": [],
   "source": [
    "import keras\n",
    "model = \n",
    "\n",
    "#df1 = pd.read_pickle('train_images1.pkl')\n",
    "#df1.head(5)"
   ]
  }
 ],
 "metadata": {
  "kernelspec": {
   "display_name": "Python 3",
   "language": "python",
   "name": "python3"
  },
  "language_info": {
   "codemirror_mode": {
    "name": "ipython",
    "version": 3
   },
   "file_extension": ".py",
   "mimetype": "text/x-python",
   "name": "python",
   "nbconvert_exporter": "python",
   "pygments_lexer": "ipython3",
   "version": "3.7.6"
  }
 },
 "nbformat": 4,
 "nbformat_minor": 2
}
